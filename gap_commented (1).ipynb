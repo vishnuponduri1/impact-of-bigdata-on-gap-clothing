{
 "cells": [
  {
   "cell_type": "markdown",
   "metadata": {},
   "source": [
    "## This Notebook scrapes review ratings of Gap T-shirts"
   ]
  },
  {
   "cell_type": "markdown",
   "metadata": {},
   "source": [
    "### Installing and importing required libraries"
   ]
  },
  {
   "cell_type": "code",
   "execution_count": 1,
   "metadata": {},
   "outputs": [
    {
     "name": "stdout",
     "output_type": "stream",
     "text": [
      "Requirement already satisfied: selenium in c:\\users\\akshi\\anaconda3\\lib\\site-packages (4.12.0)\n",
      "Requirement already satisfied: urllib3[socks]<3,>=1.26 in c:\\users\\akshi\\anaconda3\\lib\\site-packages (from selenium) (1.26.16)\n",
      "Requirement already satisfied: trio~=0.17 in c:\\users\\akshi\\anaconda3\\lib\\site-packages (from selenium) (0.22.2)\n",
      "Requirement already satisfied: trio-websocket~=0.9 in c:\\users\\akshi\\anaconda3\\lib\\site-packages (from selenium) (0.10.4)\n",
      "Requirement already satisfied: certifi>=2021.10.8 in c:\\users\\akshi\\anaconda3\\lib\\site-packages (from selenium) (2023.7.22)\n",
      "Requirement already satisfied: attrs>=20.1.0 in c:\\users\\akshi\\anaconda3\\lib\\site-packages (from trio~=0.17->selenium) (22.1.0)\n",
      "Requirement already satisfied: sortedcontainers in c:\\users\\akshi\\anaconda3\\lib\\site-packages (from trio~=0.17->selenium) (2.4.0)\n",
      "Requirement already satisfied: idna in c:\\users\\akshi\\anaconda3\\lib\\site-packages (from trio~=0.17->selenium) (3.4)\n",
      "Requirement already satisfied: outcome in c:\\users\\akshi\\anaconda3\\lib\\site-packages (from trio~=0.17->selenium) (1.2.0)\n",
      "Requirement already satisfied: sniffio in c:\\users\\akshi\\anaconda3\\lib\\site-packages (from trio~=0.17->selenium) (1.2.0)\n",
      "Requirement already satisfied: cffi>=1.14 in c:\\users\\akshi\\anaconda3\\lib\\site-packages (from trio~=0.17->selenium) (1.15.1)\n",
      "Requirement already satisfied: exceptiongroup in c:\\users\\akshi\\anaconda3\\lib\\site-packages (from trio-websocket~=0.9->selenium) (1.1.3)\n",
      "Requirement already satisfied: wsproto>=0.14 in c:\\users\\akshi\\anaconda3\\lib\\site-packages (from trio-websocket~=0.9->selenium) (1.2.0)\n",
      "Requirement already satisfied: PySocks!=1.5.7,<2.0,>=1.5.6 in c:\\users\\akshi\\anaconda3\\lib\\site-packages (from urllib3[socks]<3,>=1.26->selenium) (1.7.1)\n",
      "Requirement already satisfied: pycparser in c:\\users\\akshi\\anaconda3\\lib\\site-packages (from cffi>=1.14->trio~=0.17->selenium) (2.21)\n",
      "Requirement already satisfied: h11<1,>=0.9.0 in c:\\users\\akshi\\anaconda3\\lib\\site-packages (from wsproto>=0.14->trio-websocket~=0.9->selenium) (0.14.0)\n"
     ]
    }
   ],
   "source": [
    "!pip install selenium"
   ]
  },
  {
   "cell_type": "code",
   "execution_count": 2,
   "metadata": {},
   "outputs": [
    {
     "name": "stdout",
     "output_type": "stream",
     "text": [
      "Requirement already satisfied: webdriver_manager in c:\\users\\akshi\\anaconda3\\lib\\site-packages (4.0.0)\n",
      "Requirement already satisfied: requests in c:\\users\\akshi\\anaconda3\\lib\\site-packages (from webdriver_manager) (2.31.0)\n",
      "Requirement already satisfied: python-dotenv in c:\\users\\akshi\\anaconda3\\lib\\site-packages (from webdriver_manager) (1.0.0)\n",
      "Requirement already satisfied: packaging in c:\\users\\akshi\\anaconda3\\lib\\site-packages (from webdriver_manager) (23.0)\n",
      "Requirement already satisfied: charset-normalizer<4,>=2 in c:\\users\\akshi\\anaconda3\\lib\\site-packages (from requests->webdriver_manager) (2.0.4)\n",
      "Requirement already satisfied: idna<4,>=2.5 in c:\\users\\akshi\\anaconda3\\lib\\site-packages (from requests->webdriver_manager) (3.4)\n",
      "Requirement already satisfied: urllib3<3,>=1.21.1 in c:\\users\\akshi\\anaconda3\\lib\\site-packages (from requests->webdriver_manager) (1.26.16)\n",
      "Requirement already satisfied: certifi>=2017.4.17 in c:\\users\\akshi\\anaconda3\\lib\\site-packages (from requests->webdriver_manager) (2023.7.22)\n"
     ]
    }
   ],
   "source": [
    "!pip3 install webdriver_manager"
   ]
  },
  {
   "cell_type": "code",
   "execution_count": 3,
   "metadata": {},
   "outputs": [],
   "source": [
    "# randomising headers\n",
    "import requests\n",
    "import random\n",
    "\n",
    "headers_list = [\n",
    "    # Firefox 77 Mac\n",
    "    {\n",
    "    \"User-Agent\": \"Mozilla/5.0 (Macintosh; Intel Mac OS X 10.15; rv:77.0) Gecko/20100101 Firefox/77.0\",\n",
    "    \"Accept\": \"text/html,application/xhtml+xml,application/xml;q=0.9,image/webp,*/*;q=0.8\",\n",
    "    \"Accept-Language\": \"en-US,en;q=0.5\",\n",
    "    \"Referer\": \"https://www.google.com/\",\n",
    "    \"DNT\": \"1\",\n",
    "    \"Connection\": \"keep-alive\",\n",
    "    \"Upgrade-Insecure-Requests\": \"1\"\n",
    "    },\n",
    "    # Chrome 92.0 Win10\n",
    "    {\n",
    "    \"User-Agent\": \"Mozilla/5.0 (Windows NT 10.0; Win64; x64) AppleWebKit/537.36 (KHTML, like Gecko) Chrome/92.0.4515.107 Safari/537.36\",\n",
    "    \"Accept\": \"text/html,application/xhtml+xml,application/xml;q=0.9,image/webp,*/*;q=0.8\",\n",
    "    \"Accept-Language\": \"en-US,en;q=0.5\",\n",
    "    \"Accept-Encoding\": \"gzip, deflate, br\",\n",
    "    \"Referer\": \"https://www.google.com/\",\n",
    "    \"DNT\": \"1\",\n",
    "    \"Connection\": \"keep-alive\",\n",
    "    \"Upgrade-Insecure-Requests\": \"1\"\n",
    "    },\n",
    "    # Chrome 91.0 Win10\n",
    "    {\n",
    "    \"Connection\": \"keep-alive\",\n",
    "    \"DNT\": \"1\",\n",
    "    \"Upgrade-Insecure-Requests\": \"1\",\n",
    "    \"User-Agent\": \"Mozilla/5.0 (Windows NT 10.0; Win64; x64) AppleWebKit/537.36 (KHTML, like Gecko) Chrome/91.0.4472.124 Safari/537.36\",\n",
    "    \"Accept\": \"text/html,application/xhtml+xml,application/xml;q=0.9,image/webp,image/apng,*/*;q=0.8,application/signed-exchange;v=b3;q=0.9\",\n",
    "    \"Sec-Fetch-Site\": \"none\",\n",
    "    \"Sec-Fetch-Mode\": \"navigate\",\n",
    "    \"Sec-Fetch-Dest\": \"document\",\n",
    "    \"Referer\": \"https://www.google.com/\",\n",
    "    \"Accept-Encoding\": \"gzip, deflate, br\",\n",
    "    \"Accept-Language\": \"en-GB,en-US;q=0.9,en;q=0.8\"\n",
    "    },\n",
    "    # Firefox 90.0 Win10\n",
    "    {\n",
    "    \"Connection\": \"keep-alive\",\n",
    "    \"Upgrade-Insecure-Requests\": \"1\",\n",
    "    \"User-Agent\": \"Mozilla/5.0 (Windows NT 10.0; Win64; x64; rv:90.0) Gecko/20100101 Firefox/90.0\",\n",
    "    \"Accept\": \"text/html,application/xhtml+xml,application/xml;q=0.9,image/webp,image/apng,*/*;q=0.8,application/signed-exchange;v=b3;q=0.9\",\n",
    "    \"Sec-Fetch-Site\": \"same-origin\",\n",
    "    \"Sec-Fetch-Mode\": \"navigate\",\n",
    "    \"Sec-Fetch-User\": \"?1\",\n",
    "    \"Sec-Fetch-Dest\": \"document\",\n",
    "    \"Referer\": \"https://www.google.com/\",\n",
    "    \"Accept-Encoding\": \"gzip, deflate, br\",\n",
    "    \"Accept-Language\": \"en-US,en;q=0.9\"\n",
    "    }\n",
    "]"
   ]
  },
  {
   "cell_type": "code",
   "execution_count": 4,
   "metadata": {},
   "outputs": [
    {
     "data": {
      "text/plain": [
       "['https://www.gap.com/browse/category.do?cid=5225#pageId=0&style=5228&department=75',\n",
       " 'https://www.gap.com/browse/category.do?cid=5225#pageId=0&style=1142578&department=75',\n",
       " 'https://www.gap.com/browse/category.do?cid=5225#pageId=0&style=1053999&department=75']"
      ]
     },
     "execution_count": 4,
     "metadata": {},
     "output_type": "execute_result"
    }
   ],
   "source": [
    "# getting urls for the sites to scrape\n",
    "urls = []\n",
    "mens_shirt = \"https://www.gap.com/browse/category.do?cid=5225#pageId=0&style=\"\n",
    "styles = [5228,1142578,1053999]\n",
    "for i in styles:\n",
    "    urls.append(mens_shirt + str(i) + \"&department=75\")\n",
    "urls"
   ]
  },
  {
   "cell_type": "code",
   "execution_count": null,
   "metadata": {},
   "outputs": [],
   "source": [
    "### extracting links for products from pages"
   ]
  },
  {
   "cell_type": "code",
   "execution_count": 5,
   "metadata": {
    "scrolled": true
   },
   "outputs": [
    {
     "name": "stderr",
     "output_type": "stream",
     "text": [
      "C:\\Users\\akshi\\AppData\\Local\\Temp\\ipykernel_22688\\2556195810.py:17: DeprecationWarning: Firefox will soon stop logging to geckodriver.log by default; Specify desired logs with log_output\n",
      "  driver = webdriver.Firefox(service=Service(GeckoDriverManager().install()), options = firefox_options)\n",
      "C:\\Users\\akshi\\AppData\\Local\\Temp\\ipykernel_22688\\2556195810.py:23: DeprecationWarning: Firefox will soon stop logging to geckodriver.log by default; Specify desired logs with log_output\n",
      "  driver = webdriver.Firefox(service=Service(GeckoDriverManager().install()), options = firefox_options)\n"
     ]
    },
    {
     "name": "stdout",
     "output_type": "stream",
     "text": [
      "No. of links -  42\n",
      "https://www.gap.com/browse/product.do?pid=428038052&cid=5225&pcid=5225&vid=1&cpos=0&cexp=2859&kcid=CategoryIDs%3D5225&cvar=25416&ctype=Listing&cpid=res23100314544580731794508&ccam=25791\n",
      "https://www.gap.com/browse/product.do?pid=428038052&cid=5225&pcid=5225&vid=1&cpos=0&cexp=2859&kcid=CategoryIDs%3D5225&cvar=25416&ctype=Listing&cpid=res23100314544580731794508&ccam=25791\n",
      "https://www.gap.com/browse/product.do?pid=774839032&cid=5225&pcid=5225&vid=1&cpos=1&cexp=2859&kcid=CategoryIDs%3D5225&cvar=25416&ctype=Listing&cpid=res23100314544580731794508&ccam=25791\n",
      "https://www.gap.com/browse/product.do?pid=774842012&cid=5225&pcid=5225&vid=1&cpos=2&cexp=2859&kcid=CategoryIDs%3D5225&cvar=25416&ctype=Listing&cpid=res23100314544580731794508&ccam=25791\n",
      "https://www.gap.com/browse/product.do?pid=774842042&cid=5225&pcid=5225&vid=1&cpos=4&cexp=2859&kcid=CategoryIDs%3D5225&cvar=25416&ctype=Listing&cpid=res23100314544580731794508&ccam=25791\n",
      "https://www.gap.com/browse/product.do?pid=774842032&cid=5225&pcid=5225&vid=1&cpos=7&cexp=2859&kcid=CategoryIDs%3D5225&cvar=25416&ctype=Listing&cpid=res23100314544580731794508&ccam=25791\n",
      "https://www.gap.com/browse/product.do?pid=428038002&cid=5225&pcid=5225&vid=1&cpos=9&cexp=2859&kcid=CategoryIDs%3D5225&cvar=25416&ctype=Listing&cpid=res23100314544580731794508&ccam=25791\n",
      "https://www.gap.com/browse/product.do?pid=774839012&cid=5225&pcid=5225&vid=1&cpos=10&cexp=2859&kcid=CategoryIDs%3D5225&cvar=25416&ctype=Listing&cpid=res23100314544580731794508&ccam=25791\n",
      "https://www.gap.com/browse/product.do?pid=451563002&cid=5225&pcid=5225&vid=1&cpos=11&cexp=2859&kcid=CategoryIDs%3D5225&ctype=Listing&cpid=res23100314544580731794508&ccam=25791\n",
      "https://www.gap.com/browse/product.do?pid=428038272&cid=5225&pcid=5225&vid=1&cpos=12&cexp=2859&kcid=CategoryIDs%3D5225&cvar=25416&ctype=Listing&cpid=res23100314544580731794508&ccam=25791\n",
      "https://www.gap.com/browse/product.do?pid=428038282&cid=5225&pcid=5225&vid=1&cpos=14&cexp=2859&kcid=CategoryIDs%3D5225&cvar=25416&ctype=Listing&cpid=res23100314544580731794508&ccam=25791\n",
      "https://www.gap.com/browse/product.do?pid=774839022&cid=5225&pcid=5225&vid=1&cpos=15&cexp=2859&kcid=CategoryIDs%3D5225&cvar=25416&ctype=Listing&cpid=res23100314544580731794508&ccam=25791\n",
      "https://www.gap.com/browse/product.do?pid=428038022&cid=5225&pcid=5225&vid=1&cpos=16&cexp=2859&kcid=CategoryIDs%3D5225&cvar=25416&ctype=Listing&cpid=res23100314544580731794508&ccam=25791\n",
      "https://www.gap.com/browse/product.do?pid=774839002&cid=5225&pcid=5225&vid=1&cpos=17&cexp=2859&kcid=CategoryIDs%3D5225&cvar=25416&ctype=Listing&cpid=res23100314544580731794508&ccam=25791\n",
      "https://www.gap.com/browse/product.do?pid=774839052&cid=5225&pcid=5225&vid=1&cpos=18&cexp=2859&kcid=CategoryIDs%3D5225&cvar=25416&ctype=Listing&cpid=res23100314544580731794508&ccam=25791\n",
      "https://www.gap.com/browse/product.do?pid=428038062&cid=5225&pcid=5225&vid=1&cpos=19&cexp=2859&kcid=CategoryIDs%3D5225&cvar=25416&ctype=Listing&cpid=res23100314544580731794508&ccam=25791\n",
      "https://www.gap.com/browse/product.do?pid=776692012&cid=5225&pcid=5225&vid=1&cpos=20&cexp=2859&kcid=CategoryIDs%3D5225&cvar=25416&ctype=Listing&cpid=res23100314544580731794508\n",
      "https://www.gap.com/browse/product.do?pid=776692032&cid=5225&pcid=5225&vid=1&cpos=21&cexp=2859&kcid=CategoryIDs%3D5225&cvar=25416&ctype=Listing&cpid=res23100314544580731794508\n",
      "https://www.gap.com/browse/product.do?pid=776692002&cid=5225&pcid=5225&vid=1&cpos=22&cexp=2859&kcid=CategoryIDs%3D5225&cvar=25416&ctype=Listing&cpid=res23100314544580731794508\n",
      "https://www.gap.com/browse/product.do?pid=776692022&cid=5225&pcid=5225&vid=1&cpos=23&cexp=2859&kcid=CategoryIDs%3D5225&cvar=25416&ctype=Listing&cpid=res23100314544580731794508\n",
      "https://www.gap.com/browse/product.do?pid=428038232&cid=5225&pcid=5225&vid=1&cpos=24&cexp=2859&kcid=CategoryIDs%3D5225&cvar=25416&ctype=Listing&cpid=res23100314544580731794508\n",
      "/browse/info.do?cid=1086537\n",
      "https://www.gap.com/browse/product.do?pid=428038262&cid=5225&pcid=5225&vid=1&cpos=25&cexp=2859&kcid=CategoryIDs%3D5225&cvar=25416&ctype=Listing&cpid=res23100314544580731794508\n",
      "https://www.gap.com/browse/product.do?pid=774839042&cid=5225&pcid=5225&vid=1&cpos=26&cexp=2859&kcid=CategoryIDs%3D5225&cvar=25416&ctype=Listing&cpid=res23100314544580731794508\n",
      "https://www.gap.com/browse/product.do?pid=451563042&cid=5225&pcid=5225&vid=1&cpos=27&cexp=2859&kcid=CategoryIDs%3D5225&cvar=25416&ctype=Listing&cpid=res23100314544580731794508\n",
      "https://www.gap.com/browse/product.do?pid=428038252&cid=5225&pcid=5225&vid=1&cpos=28&cexp=2859&kcid=CategoryIDs%3D5225&cvar=25416&ctype=Listing&cpid=res23100314544580731794508\n",
      "https://www.gap.com/browse/product.do?pid=428038242&cid=5225&pcid=5225&vid=1&cpos=29&cexp=2859&kcid=CategoryIDs%3D5225&cvar=25416&ctype=Listing&cpid=res23100314544580731794508\n",
      "https://www.gap.com/browse/product.do?pid=774842022&cid=5225&pcid=5225&vid=1&cpos=30&cexp=2859&kcid=CategoryIDs%3D5225&cvar=25416&ctype=Listing&cpid=res23100314544580731794508\n",
      "https://www.gap.com/browse/product.do?pid=428038292&cid=5225&pcid=5225&vid=1&cpos=31&cexp=2859&kcid=CategoryIDs%3D5225&cvar=25416&ctype=Listing&cpid=res23100314544580731794508\n",
      "https://www.gap.com/browse/product.do?pid=451563052&cid=5225&pcid=5225&vid=1&cpos=32&cexp=2859&kcid=CategoryIDs%3D5225&cvar=25416&ctype=Listing&cpid=res23100314544580731794508\n",
      "https://www.gap.com/browse/product.do?pid=816715002&cid=5225&pcid=5225&vid=1\n",
      "https://www.gap.com/browse/product.do?pid=816715012&cid=5225&pcid=5225&vid=1\n",
      "https://www.gap.com/browse/product.do?pid=816715022&cid=5225&pcid=5225&vid=1\n",
      "https://www.gap.com/browse/product.do?pid=816716002&cid=5225&pcid=5225&vid=1\n",
      "https://www.gap.com/browse/product.do?pid=816716012&cid=5225&pcid=5225&vid=1\n",
      "https://www.gap.com/browse/product.do?pid=816716022&cid=5225&pcid=5225&vid=1\n",
      "https://www.gap.com/browse/product.do?pid=816714002&cid=5225&pcid=5225&vid=1\n",
      "https://www.gap.com/browse/product.do?pid=816714012&cid=5225&pcid=5225&vid=1\n",
      "https://www.gap.com/browse/product.do?pid=816714022&cid=5225&pcid=5225&vid=1\n",
      "https://www.gap.com/browse/product.do?pid=816714032&cid=5225&pcid=5225&vid=1\n",
      "https://www.gap.com/browse/product.do?pid=816714042&cid=5225&pcid=5225&vid=1\n",
      "https://www.gap.com/browse/product.do?pid=428038142&cid=5225&pcid=5225&vid=2\n"
     ]
    }
   ],
   "source": [
    "from bs4 import BeautifulSoup as bs\n",
    "from selenium import webdriver\n",
    "from selenium.webdriver.firefox.options import Options\n",
    "from selenium.webdriver.common.by import By\n",
    "from selenium.webdriver.support.wait import WebDriverWait\n",
    "from selenium.webdriver.support import expected_conditions as EC\n",
    "from selenium.webdriver.firefox.service import Service\n",
    "from webdriver_manager.firefox import GeckoDriverManager\n",
    "import time\n",
    "import random\n",
    "\n",
    "firefox_options = Options()\n",
    "#firefox_options.add_argument('--headless')\n",
    "firefox_options.add_argument('--no-sandbox')\n",
    "firefox_options.add_argument('--disable-dev-shm-usage')\n",
    "\n",
    "driver = webdriver.Firefox(service=Service(GeckoDriverManager().install()), options = firefox_options)\n",
    "\n",
    "time.sleep(3)\n",
    "driver.quit()\n",
    "\n",
    "# Only one browser will open and stay open until the code is done running.\n",
    "driver = webdriver.Firefox(service=Service(GeckoDriverManager().install()), options = firefox_options)\n",
    "\n",
    "product_links = []\n",
    "product_names = []\n",
    "\n",
    "for url in urls[0:1]:\n",
    "    \n",
    "    driver.get(url) # open 'url' in the already opened browser\n",
    "    \n",
    "    assert 'Gap' in driver.title # Wait for the page to load\n",
    "    \n",
    "    SCROLL_PAUSE_TIME = 30\n",
    "\n",
    "    # Get scroll height\n",
    "    last_height = driver.execute_script(\"return document.body.scrollHeight\")\n",
    "\n",
    "    while True:\n",
    "        # Scroll down to bottom\n",
    "        driver.execute_script(\"window.scrollTo(0, document.body.scrollHeight);\")\n",
    "\n",
    "        # Wait to load page\n",
    "        time.sleep(SCROLL_PAUSE_TIME)\n",
    "\n",
    "        # Calculate new scroll height and compare with last scroll height\n",
    "        new_height = driver.execute_script(\"return document.body.scrollHeight\")\n",
    "        if new_height == last_height:\n",
    "            break\n",
    "        last_height = new_height\n",
    "    wait = WebDriverWait(driver, 30)\n",
    "    wait.until(EC.visibility_of_element_located((By.CSS_SELECTOR, '.site-footer_sublinks--span')))\n",
    "  \n",
    "\n",
    "    html = driver.page_source # Get the html of the page\n",
    "\n",
    "    soup = bs(html, 'html.parser')\n",
    "    \n",
    "    for html_class in soup.find_all('div', {'data-testid': 'grid-root'}):\n",
    "        l = html_class.find('a')\n",
    "        if l is not None:\n",
    "            link = l.get('href')\n",
    "        if link is not None:\n",
    "            product_links.append(link)\n",
    "        \n",
    "        product_name = html_class.find(\"div\",\"category-page-ozrboz\")\n",
    "        if product_name:\n",
    "            product_names.append(product_name.text)\n",
    "        else:\n",
    "            product_names.append(\"N/A\")  \n",
    "     \n",
    "   \n",
    "\n",
    "driver.quit() # Closing the browser.\n",
    "\n",
    "\n",
    "\n",
    "# Print all the product links\n",
    "print('No. of links - ', len(product_links))\n",
    "for link in product_links:\n",
    "    print(link)"
   ]
  },
  {
   "cell_type": "code",
   "execution_count": 9,
   "metadata": {
    "scrolled": true
   },
   "outputs": [
    {
     "name": "stderr",
     "output_type": "stream",
     "text": [
      "C:\\Users\\akshi\\AppData\\Local\\Temp\\ipykernel_22688\\1526353581.py:18: DeprecationWarning: Firefox will soon stop logging to geckodriver.log by default; Specify desired logs with log_output\n",
      "  driver = webdriver.Firefox(service=Service(GeckoDriverManager().install()), options = firefox_options)\n",
      "C:\\Users\\akshi\\AppData\\Local\\Temp\\ipykernel_22688\\1526353581.py:24: DeprecationWarning: Firefox will soon stop logging to geckodriver.log by default; Specify desired logs with log_output\n",
      "  driver = webdriver.Firefox(service=Service(GeckoDriverManager().install()), options = firefox_options)\n"
     ]
    },
    {
     "ename": "InvalidArgumentException",
     "evalue": "Message: Malformed URL: URL constructor: /browse/info.do?cid=1086537 is not a valid URL.\nStacktrace:\nRemoteError@chrome://remote/content/shared/RemoteError.sys.mjs:8:8\nWebDriverError@chrome://remote/content/shared/webdriver/Errors.sys.mjs:189:5\nInvalidArgumentError@chrome://remote/content/shared/webdriver/Errors.sys.mjs:380:5\nGeckoDriver.prototype.navigateTo@chrome://remote/content/marionette/driver.sys.mjs:849:11\n",
     "output_type": "error",
     "traceback": [
      "\u001b[1;31m---------------------------------------------------------------------------\u001b[0m",
      "\u001b[1;31mInvalidArgumentException\u001b[0m                  Traceback (most recent call last)",
      "Cell \u001b[1;32mIn[9], line 33\u001b[0m\n\u001b[0;32m     28\u001b[0m Price \u001b[38;5;241m=\u001b[39m []\n\u001b[0;32m     30\u001b[0m \u001b[38;5;28;01mfor\u001b[39;00m url \u001b[38;5;129;01min\u001b[39;00m product_links[\u001b[38;5;241m0\u001b[39m:\u001b[38;5;241m41\u001b[39m]:\n\u001b[1;32m---> 33\u001b[0m     driver\u001b[38;5;241m.\u001b[39mget(url) \u001b[38;5;66;03m# open 'url' in the already opened browser\u001b[39;00m\n\u001b[0;32m     35\u001b[0m     \u001b[38;5;28;01massert\u001b[39;00m \u001b[38;5;124m'\u001b[39m\u001b[38;5;124mGap\u001b[39m\u001b[38;5;124m'\u001b[39m \u001b[38;5;129;01min\u001b[39;00m driver\u001b[38;5;241m.\u001b[39mtitle \u001b[38;5;66;03m# Wait for the page to load\u001b[39;00m\n\u001b[0;32m     37\u001b[0m     SCROLL_PAUSE_TIME \u001b[38;5;241m=\u001b[39m \u001b[38;5;241m10\u001b[39m\n",
      "File \u001b[1;32m~\\anaconda3\\Lib\\site-packages\\selenium\\webdriver\\remote\\webdriver.py:353\u001b[0m, in \u001b[0;36mWebDriver.get\u001b[1;34m(self, url)\u001b[0m\n\u001b[0;32m    351\u001b[0m \u001b[38;5;28;01mdef\u001b[39;00m \u001b[38;5;21mget\u001b[39m(\u001b[38;5;28mself\u001b[39m, url: \u001b[38;5;28mstr\u001b[39m) \u001b[38;5;241m-\u001b[39m\u001b[38;5;241m>\u001b[39m \u001b[38;5;28;01mNone\u001b[39;00m:\n\u001b[0;32m    352\u001b[0m \u001b[38;5;250m    \u001b[39m\u001b[38;5;124;03m\"\"\"Loads a web page in the current browser session.\"\"\"\u001b[39;00m\n\u001b[1;32m--> 353\u001b[0m     \u001b[38;5;28mself\u001b[39m\u001b[38;5;241m.\u001b[39mexecute(Command\u001b[38;5;241m.\u001b[39mGET, {\u001b[38;5;124m\"\u001b[39m\u001b[38;5;124murl\u001b[39m\u001b[38;5;124m\"\u001b[39m: url})\n",
      "File \u001b[1;32m~\\anaconda3\\Lib\\site-packages\\selenium\\webdriver\\remote\\webdriver.py:344\u001b[0m, in \u001b[0;36mWebDriver.execute\u001b[1;34m(self, driver_command, params)\u001b[0m\n\u001b[0;32m    342\u001b[0m response \u001b[38;5;241m=\u001b[39m \u001b[38;5;28mself\u001b[39m\u001b[38;5;241m.\u001b[39mcommand_executor\u001b[38;5;241m.\u001b[39mexecute(driver_command, params)\n\u001b[0;32m    343\u001b[0m \u001b[38;5;28;01mif\u001b[39;00m response:\n\u001b[1;32m--> 344\u001b[0m     \u001b[38;5;28mself\u001b[39m\u001b[38;5;241m.\u001b[39merror_handler\u001b[38;5;241m.\u001b[39mcheck_response(response)\n\u001b[0;32m    345\u001b[0m     response[\u001b[38;5;124m\"\u001b[39m\u001b[38;5;124mvalue\u001b[39m\u001b[38;5;124m\"\u001b[39m] \u001b[38;5;241m=\u001b[39m \u001b[38;5;28mself\u001b[39m\u001b[38;5;241m.\u001b[39m_unwrap_value(response\u001b[38;5;241m.\u001b[39mget(\u001b[38;5;124m\"\u001b[39m\u001b[38;5;124mvalue\u001b[39m\u001b[38;5;124m\"\u001b[39m, \u001b[38;5;28;01mNone\u001b[39;00m))\n\u001b[0;32m    346\u001b[0m     \u001b[38;5;28;01mreturn\u001b[39;00m response\n",
      "File \u001b[1;32m~\\anaconda3\\Lib\\site-packages\\selenium\\webdriver\\remote\\errorhandler.py:229\u001b[0m, in \u001b[0;36mErrorHandler.check_response\u001b[1;34m(self, response)\u001b[0m\n\u001b[0;32m    227\u001b[0m         alert_text \u001b[38;5;241m=\u001b[39m value[\u001b[38;5;124m\"\u001b[39m\u001b[38;5;124malert\u001b[39m\u001b[38;5;124m\"\u001b[39m]\u001b[38;5;241m.\u001b[39mget(\u001b[38;5;124m\"\u001b[39m\u001b[38;5;124mtext\u001b[39m\u001b[38;5;124m\"\u001b[39m)\n\u001b[0;32m    228\u001b[0m     \u001b[38;5;28;01mraise\u001b[39;00m exception_class(message, screen, stacktrace, alert_text)  \u001b[38;5;66;03m# type: ignore[call-arg]  # mypy is not smart enough here\u001b[39;00m\n\u001b[1;32m--> 229\u001b[0m \u001b[38;5;28;01mraise\u001b[39;00m exception_class(message, screen, stacktrace)\n",
      "\u001b[1;31mInvalidArgumentException\u001b[0m: Message: Malformed URL: URL constructor: /browse/info.do?cid=1086537 is not a valid URL.\nStacktrace:\nRemoteError@chrome://remote/content/shared/RemoteError.sys.mjs:8:8\nWebDriverError@chrome://remote/content/shared/webdriver/Errors.sys.mjs:189:5\nInvalidArgumentError@chrome://remote/content/shared/webdriver/Errors.sys.mjs:380:5\nGeckoDriver.prototype.navigateTo@chrome://remote/content/marionette/driver.sys.mjs:849:11\n"
     ]
    }
   ],
   "source": [
    "## extracting variables from GAP links\n",
    "from bs4 import BeautifulSoup as bs\n",
    "from selenium import webdriver\n",
    "from selenium.webdriver.firefox.options import Options\n",
    "from selenium.webdriver.common.by import By\n",
    "from selenium.webdriver.support.wait import WebDriverWait\n",
    "from selenium.webdriver.support import expected_conditions as EC\n",
    "from selenium.webdriver.firefox.service import Service\n",
    "from webdriver_manager.firefox import GeckoDriverManager\n",
    "import time\n",
    "import random\n",
    "\n",
    "\n",
    "firefox_options = Options()\n",
    "#firefox_options.add_argument('--headless')\n",
    "firefox_options.add_argument('--no-sandbox')\n",
    "firefox_options.add_argument('--disable-dev-shm-usage')\n",
    "\n",
    "driver = webdriver.Firefox(service=Service(GeckoDriverManager().install()), options = firefox_options)\n",
    "\n",
    "time.sleep(3)\n",
    "driver.quit()\n",
    "\n",
    "# Only one browser will open and stay open until the code is done running.\n",
    "driver = webdriver.Firefox(service=Service(GeckoDriverManager().install()), options = firefox_options)\n",
    "\n",
    "fiveStars = []\n",
    "fourStars = []\n",
    "threeStars = []\n",
    "twoStars = []\n",
    "oneStar = []\n",
    "Count = []\n",
    "Price = []\n",
    "\n",
    "for url in product_links[0:23]:\n",
    "    \n",
    "    \n",
    "    driver.get(url) # open 'url' in the already opened browser\n",
    "    \n",
    "    assert 'Gap' in driver.title # Wait for the page to load\n",
    "    \n",
    "    SCROLL_PAUSE_TIME = 10\n",
    "\n",
    "    # Get scroll height\n",
    "    last_height = driver.execute_script(\"return document.body.scrollHeight\")\n",
    "\n",
    "    while True:\n",
    "        # Scroll down to bottom\n",
    "        driver.execute_script(\"window.scrollTo(0, document.body.scrollHeight);\")\n",
    "\n",
    "        # Wait to load page\n",
    "        time.sleep(SCROLL_PAUSE_TIME)\n",
    "\n",
    "        # Calculate new scroll height and compare with last scroll height\n",
    "        new_height = driver.execute_script(\"return document.body.scrollHeight\")\n",
    "        if new_height == last_height:\n",
    "            break\n",
    "        last_height = new_height\n",
    "    wait = WebDriverWait(driver, 10)\n",
    "    wait.until(EC.visibility_of_element_located((By.CSS_SELECTOR,'.site-footer_sublinks--span' )))\n",
    "  \n",
    "\n",
    "    html = driver.page_source # Get the html of the page\n",
    "\n",
    "    soup = bs(html, 'html.parser')\n",
    "    rating = soup.find(\"span\",class_ = \"pr-snippet-rating-count\") \n",
    "   \n",
    "    \n",
    "    # getting the price of product\n",
    "    price= soup.find(\"div\", class_ = \"pdp-pricing pdp-mfe-1x0pbuu\")\n",
    "    Rate=price.text\n",
    "    if Rate is not None :\n",
    "        Price.append(Rate)\n",
    "    else :\n",
    "        Price.append(\"NA\")\n",
    "    if rating is not None:\n",
    "    # Extract the text content and append it to the 'Count' list\n",
    "       Count.append(rating.text)\n",
    "    else:\n",
    "        Count.append(\"N/A\")\n",
    "    # extract rating stars from reviews\n",
    "    while soup.find('li',class_=\"pr-ratings-histogram-list-item\") is not None:\n",
    "        Stars = []\n",
    "        stars = soup.find('li',\"pr-ratings-histogram-list-item\")\n",
    "        if stars is not None:\n",
    "            Stars.append(stars.text)\n",
    "        else :\n",
    "            Stars.append(\"N/A\")\n",
    "        stars.extract()\n",
    "        fiveStars.append(Stars[0])\n",
    "        fourStars.append(Stars[1])\n",
    "        threeStars.append(Stars[2])\n",
    "        twoStars.append(Stars[3])\n",
    "        oneStar.append(Stars[4])    \n",
    "    \n",
    "driver.quit() # Closing the browser    \n",
    "\n"
   ]
  },
  {
   "cell_type": "code",
   "execution_count": null,
   "metadata": {
    "scrolled": false
   },
   "outputs": [],
   "source": []
  },
  {
   "cell_type": "code",
   "execution_count": 12,
   "metadata": {},
   "outputs": [
    {
     "name": "stdout",
     "output_type": "stream",
     "text": [
      "csv file 'gap_hypo2.csv' has been created.\n"
     ]
    }
   ],
   "source": [
    "### writing a csv \n",
    "import csv\n",
    "filename = \"gap_hypo2.csv\"\n",
    "rows = zip(product_names, Price,Count,Stars)\n",
    "with open(filename, mode='w', newline = '',encoding='utf-8') as file:\n",
    "    writer = csv.writer(file)\n",
    "    header = [\"names\", \"Price\", \"Count\", \"stars\"]\n",
    "    writer.writerow(header)\n",
    "    writer.writerows(rows)\n",
    "print(f\"csv file '{filename}' has been created.\")"
   ]
  },
  {
   "cell_type": "code",
   "execution_count": 8,
   "metadata": {},
   "outputs": [
    {
     "data": {
      "text/plain": [
       "'C:\\\\Users\\\\akshi\\\\OneDrive\\\\Desktop\\\\Web Data Analytics\\\\Team Project'"
      ]
     },
     "execution_count": 8,
     "metadata": {},
     "output_type": "execute_result"
    }
   ],
   "source": []
  },
  {
   "cell_type": "code",
   "execution_count": null,
   "metadata": {},
   "outputs": [],
   "source": []
  },
  {
   "cell_type": "code",
   "execution_count": null,
   "metadata": {},
   "outputs": [],
   "source": [
    "     \n",
    "        "
   ]
  },
  {
   "cell_type": "code",
   "execution_count": 11,
   "metadata": {},
   "outputs": [
    {
     "data": {
      "text/plain": [
       "['100% Organic Cotton T-Shirt',\n",
       " '100% Organic Cotton T-Shirt',\n",
       " 'Waffle Crewneck T-Shirt',\n",
       " 'Henley T-Shirt',\n",
       " 'Henley T-Shirt',\n",
       " 'Henley T-Shirt',\n",
       " '100% Organic Cotton T-Shirt',\n",
       " 'Waffle Crewneck T-Shirt',\n",
       " 'Waffle T-Shirt',\n",
       " '100% Organic Cotton T-Shirt',\n",
       " '100% Organic Cotton T-Shirt',\n",
       " 'Waffle Crewneck T-Shirt',\n",
       " '100% Organic Cotton T-Shirt',\n",
       " 'Waffle Crewneck T-Shirt',\n",
       " 'Waffle Crewneck T-Shirt',\n",
       " '100% Organic Cotton T-Shirt',\n",
       " 'Gap Arch Logo T-Shirt',\n",
       " 'Gap Arch Logo T-Shirt',\n",
       " 'Gap Arch Logo T-Shirt',\n",
       " 'Gap Arch Logo T-Shirt',\n",
       " '100% Organic Cotton T-Shirt',\n",
       " 'N/A',\n",
       " '100% Organic Cotton T-Shirt',\n",
       " 'Waffle Crewneck T-Shirt',\n",
       " 'Waffle T-Shirt',\n",
       " '100% Organic Cotton T-Shirt',\n",
       " '100% Organic Cotton T-Shirt',\n",
       " 'Henley T-Shirt',\n",
       " '100% Organic Cotton T-Shirt',\n",
       " 'Waffle T-Shirt',\n",
       " 'Waffle Hoodie',\n",
       " 'Waffle Hoodie',\n",
       " 'Waffle Hoodie',\n",
       " 'Waffle Henley T-Shirt',\n",
       " 'Waffle Henley T-Shirt',\n",
       " 'Waffle Henley T-Shirt',\n",
       " 'Heavyweight Pocket T-Shirt',\n",
       " 'Heavyweight Pocket T-Shirt',\n",
       " 'Heavyweight Pocket T-Shirt',\n",
       " 'Heavyweight Pocket T-Shirt',\n",
       " 'Heavyweight Pocket T-Shirt',\n",
       " '100% Organic Cotton T-Shirt']"
      ]
     },
     "execution_count": 11,
     "metadata": {},
     "output_type": "execute_result"
    }
   ],
   "source": [
    "product_names"
   ]
  },
  {
   "cell_type": "code",
   "execution_count": 9,
   "metadata": {},
   "outputs": [],
   "source": [
    "\n"
   ]
  },
  {
   "cell_type": "code",
   "execution_count": 10,
   "metadata": {},
   "outputs": [],
   "source": []
  },
  {
   "cell_type": "code",
   "execution_count": 11,
   "metadata": {},
   "outputs": [],
   "source": [
    "\n",
    "        "
   ]
  },
  {
   "cell_type": "code",
   "execution_count": null,
   "metadata": {},
   "outputs": [],
   "source": [
    "\n"
   ]
  },
  {
   "cell_type": "code",
   "execution_count": null,
   "metadata": {},
   "outputs": [],
   "source": []
  },
  {
   "cell_type": "code",
   "execution_count": null,
   "metadata": {},
   "outputs": [],
   "source": []
  },
  {
   "cell_type": "code",
   "execution_count": null,
   "metadata": {},
   "outputs": [],
   "source": []
  }
 ],
 "metadata": {
  "kernelspec": {
   "display_name": "Python 3 (ipykernel)",
   "language": "python",
   "name": "python3"
  },
  "language_info": {
   "codemirror_mode": {
    "name": "ipython",
    "version": 3
   },
   "file_extension": ".py",
   "mimetype": "text/x-python",
   "name": "python",
   "nbconvert_exporter": "python",
   "pygments_lexer": "ipython3",
   "version": "3.11.4"
  }
 },
 "nbformat": 4,
 "nbformat_minor": 4
}
