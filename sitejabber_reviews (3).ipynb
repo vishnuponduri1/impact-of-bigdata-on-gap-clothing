{
 "cells": [
  {
   "cell_type": "code",
   "execution_count": 1,
   "id": "4b5d1242",
   "metadata": {},
   "outputs": [],
   "source": [
    "import urllib.request, urllib.error, urllib.parse\n",
    "import json\n",
    "import csv\n",
    "import html\n",
    "import time\n",
    "from bs4 import BeautifulSoup\n",
    "import random\n",
    "from selenium import webdriver\n",
    "from selenium.webdriver.chrome.options import Options\n",
    "from selenium.webdriver.chrome.service import Service\n",
    "from webdriver_manager.chrome import ChromeDriverManager\n",
    "chrome_options = Options()\n",
    "chrome_options.add_argument('--headless')\n",
    "chrome_options.add_argument('--no-sandbox')\n",
    "chrome_options.add_argument('--disable-dev-shm-usage')\n",
    "brand_list=['bananarepublic','oldnavy','zara','hm','shein','uniqlo','levi','jcrew','forever21']"
   ]
  },
  {
   "cell_type": "code",
   "execution_count": 2,
   "id": "f1874598",
   "metadata": {},
   "outputs": [],
   "source": [
    "with open('brand-reviews.csv','w',newline='') as file:\n",
    "    writer = csv.writer(file)\n",
    "    writer.writerow([\"Brand\",\"Parameter\",\"Rating\",\"Review Count\"])\n",
    "    for brand in brand_list:\n",
    "        url_check=\"https://www.sitejabber.com/reviews/\" + brand +\".com\"\n",
    "        driver=webdriver.Chrome(service=Service(ChromeDriverManager().install()), options= chrome_options)\n",
    "        driver.get(url_check)\n",
    "        time.sleep(3)\n",
    "        html=driver.page_source\n",
    "        while html.find('url-overview__ratings__item')!=-1:\n",
    "            soup=BeautifulSoup(html,'html.parser')\n",
    "            label=soup.find('span',class_='url-overview__ratings__item__label')\n",
    "            label_text=label.text\n",
    "            rating=soup.find('div',class_='url-overview__ratings__item__stars')\n",
    "            rating_str=str(rating)\n",
    "            star_s_index=rating_str.find('data-rating')\n",
    "            star=rating_str[star_s_index+13:star_s_index+16]\n",
    "            review_count=soup.find('span',class_='url-overview__ratings__item__count')\n",
    "            review_count_text=review_count.text\n",
    "            html1_s_index=html.find('__item__count\">')\n",
    "            html1=html[html1_s_index+22:]\n",
    "            html=html1\n",
    "            if brand=='hm':\n",
    "                brand_name='H & M'\n",
    "            else:\n",
    "                brand_name=brand.capitalize()\n",
    "            writer.writerow([brand_name,label_text,star,review_count_text])"
   ]
  },
  {
   "cell_type": "code",
   "execution_count": null,
   "id": "c615aa29",
   "metadata": {},
   "outputs": [],
   "source": []
  }
 ],
 "metadata": {
  "kernelspec": {
   "display_name": "Python 3 (ipykernel)",
   "language": "python",
   "name": "python3"
  },
  "language_info": {
   "codemirror_mode": {
    "name": "ipython",
    "version": 3
   },
   "file_extension": ".py",
   "mimetype": "text/x-python",
   "name": "python",
   "nbconvert_exporter": "python",
   "pygments_lexer": "ipython3",
   "version": "3.11.4"
  }
 },
 "nbformat": 4,
 "nbformat_minor": 5
}
